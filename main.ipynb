{
 "cells": [
  {
   "cell_type": "markdown",
   "metadata": {},
   "source": [
    "# Analyzing Housing and Development Board (HDB) datasets\n",
    "\n",
    "## Details\n",
    "Name: Reuben Goh  \n",
    "Adm Num: P2205711  \n",
    "Class: EP0302 04\n",
    "\n",
    "## URLs of Datasets Chosen\n",
    "1. [HDB Property Information](https://beta.data.gov.sg/datasets/d_17f5382f26140b1fdae0ba2ef6239d2f/view)\n",
    "2. [Housing And Development Board Resale Price Index (1Q2009 = 100), Quarterly](https://beta.data.gov.sg/datasets/d_14f63e595975691e7c24a27ae4c07c79/view)\n",
    "3. [Resale Flat Prices](https://beta.data.gov.sg/collections/189/view) (used all datasets in this collection to obtain data from 1990-2024)"
   ]
  },
  {
   "cell_type": "markdown",
   "metadata": {},
   "source": [
    "# NOTES (to be deleted at the end)\n",
    "\n",
    "must have missing value analysis\n",
    "\n",
    "Urban Planning:\n",
    "\n",
    "    High-density towns may require more resources and infrastructure development.\n",
    "    Towns with lower densities could be targeted for future housing projects.\n",
    "\n",
    "Market Trends:\n",
    "\n",
    "    Historical trends in resale prices can inform investment strategies and policy decisions.\n",
    "    Significant price shifts may indicate market cycles or impacts of policy changes.\n",
    "\n",
    "Housing Preferences:\n",
    "\n",
    "    Understanding the distribution of flat types can guide future construction projects to match demand.\n",
    "    Policies can be tailored to ensure a balanced supply of different flat types.\n",
    "\n",
    "Property Value:\n",
    "\n",
    "    Insights into how property age affects value can assist buyers and investors in making informed decisions.\n",
    "    Highlighting outliers in resale prices can identify opportunities or risks in the market.\n",
    "\n",
    "Investment Strategies:\n",
    "\n",
    "    Detailed resale price distributions by flat type can help buyers and sellers understand market expectations.\n",
    "    Identifying trends in resale prices can guide strategic investment in specific flat types."
   ]
  },
  {
   "cell_type": "code",
   "execution_count": 58,
   "metadata": {},
   "outputs": [],
   "source": [
    "# Imports and Setup\n",
    "import pandas as pd\n",
    "import matplotlib.pyplot as plt\n",
    "import seaborn as sns\n",
    "import os\n",
    "\n",
    "dataset_path = \"./datasets\""
   ]
  },
  {
   "cell_type": "markdown",
   "metadata": {},
   "source": [
    "### Dataset 1 (HDB Property Information):"
   ]
  },
  {
   "cell_type": "code",
   "execution_count": 59,
   "metadata": {},
   "outputs": [
    {
     "name": "stdout",
     "output_type": "stream",
     "text": [
      "Shape of dataset:\n",
      "(12877, 24)\n",
      "\n",
      "Index of dataset:\n",
      "RangeIndex(start=0, stop=12877, step=1)\n",
      "\n",
      "List of columns:\n",
      "Index(['blk_no', 'street', 'max_floor_lvl', 'year_completed', 'residential',\n",
      "       'commercial', 'market_hawker', 'miscellaneous', 'multistorey_carpark',\n",
      "       'precinct_pavilion', 'bldg_contract_town', 'total_dwelling_units',\n",
      "       '1room_sold', '2room_sold', '3room_sold', '4room_sold', '5room_sold',\n",
      "       'exec_sold', 'multigen_sold', 'studio_apartment_sold', '1room_rental',\n",
      "       '2room_rental', '3room_rental', 'other_room_rental'],\n",
      "      dtype='object')\n",
      "\n",
      "Total number of non-NA values in dataset:\n",
      "blk_no                   12877\n",
      "street                   12877\n",
      "max_floor_lvl            12877\n",
      "year_completed           12877\n",
      "residential              12877\n",
      "commercial               12877\n",
      "market_hawker            12877\n",
      "miscellaneous            12877\n",
      "multistorey_carpark      12877\n",
      "precinct_pavilion        12877\n",
      "bldg_contract_town       12877\n",
      "total_dwelling_units     12877\n",
      "1room_sold               12877\n",
      "2room_sold               12877\n",
      "3room_sold               12877\n",
      "4room_sold               12877\n",
      "5room_sold               12877\n",
      "exec_sold                12877\n",
      "multigen_sold            12877\n",
      "studio_apartment_sold    12877\n",
      "1room_rental             12877\n",
      "2room_rental             12877\n",
      "3room_rental             12877\n",
      "other_room_rental        12877\n",
      "dtype: int64\n",
      "\n",
      "Dataset summary:\n",
      "       max_floor_lvl  year_completed  total_dwelling_units    1room_sold  \\\n",
      "count   12877.000000    12877.000000          12877.000000  12877.000000   \n",
      "mean       12.104527     1994.686728             88.208667      0.019647   \n",
      "std         7.125137       14.721417             66.285793      2.229529   \n",
      "min         1.000000     1937.000000              0.000000      0.000000   \n",
      "25%         6.000000     1984.000000             33.000000      0.000000   \n",
      "50%        12.000000     1994.000000             91.000000      0.000000   \n",
      "75%        16.000000     2003.000000            120.000000      0.000000   \n",
      "max        50.000000     2024.000000            584.000000    253.000000   \n",
      "\n",
      "         2room_sold    3room_sold    4room_sold    5room_sold     exec_sold  \\\n",
      "count  12877.000000  12877.000000  12877.000000  12877.000000  12877.000000   \n",
      "mean       3.325309     19.259067     34.951697     19.861769      5.028423   \n",
      "std       17.454455     44.429859     40.738768     29.857498     17.175975   \n",
      "min        0.000000      0.000000      0.000000      0.000000      0.000000   \n",
      "25%        0.000000      0.000000      0.000000      0.000000      0.000000   \n",
      "50%        0.000000      0.000000     23.000000      0.000000      0.000000   \n",
      "75%        0.000000      8.000000     59.000000     40.000000      0.000000   \n",
      "max      234.000000    528.000000    316.000000    164.000000    135.000000   \n",
      "\n",
      "       multigen_sold  studio_apartment_sold  1room_rental  2room_rental  \\\n",
      "count   12877.000000           12877.000000  12877.000000  12877.000000   \n",
      "mean        0.028500               0.649375      2.367865      2.457871   \n",
      "std         1.212013               7.304466     23.758520     21.212183   \n",
      "min         0.000000               0.000000      0.000000      0.000000   \n",
      "25%         0.000000               0.000000      0.000000      0.000000   \n",
      "50%         0.000000               0.000000      0.000000      0.000000   \n",
      "75%         0.000000               0.000000      0.000000      0.000000   \n",
      "max        66.000000             194.000000    520.000000    452.000000   \n",
      "\n",
      "       3room_rental  other_room_rental  \n",
      "count  12877.000000       12877.000000  \n",
      "mean       0.245166           0.013978  \n",
      "std        4.075238           0.521924  \n",
      "min        0.000000           0.000000  \n",
      "25%        0.000000           0.000000  \n",
      "50%        0.000000           0.000000  \n",
      "75%        0.000000           0.000000  \n",
      "max      114.000000          32.000000  \n",
      "\n"
     ]
    }
   ],
   "source": [
    "try:\n",
    "  property_info = pd.read_csv(os.path.join(dataset_path, \"HDBPropertyInformation.csv\"))\n",
    "\n",
    "  print(f\"Shape of dataset:\\n{property_info.shape}\\n\")\n",
    "  print(f\"Index of dataset:\\n{property_info.index}\\n\")\n",
    "  print(f\"List of columns:\\n{property_info.columns}\\n\")\n",
    "  print(f\"Total number of non-NA values in dataset:\\n{property_info.count()}\\n\")\n",
    "\n",
    "  # summary\n",
    "  print(f\"Dataset summary:\\n{property_info.}\\n\")\n",
    "\n",
    "except Exception as e:\n",
    "  print(\"Error while reading dataset:\")\n",
    "  print(e)\n"
   ]
  },
  {
   "cell_type": "markdown",
   "metadata": {},
   "source": [
    "### Dataset 2 (Housing and Development Board Resale Price Index):"
   ]
  },
  {
   "cell_type": "code",
   "execution_count": null,
   "metadata": {},
   "outputs": [],
   "source": []
  },
  {
   "cell_type": "markdown",
   "metadata": {},
   "source": [
    "### Dataset 3 (Resale Flat Prices):"
   ]
  },
  {
   "cell_type": "code",
   "execution_count": null,
   "metadata": {},
   "outputs": [],
   "source": []
  },
  {
   "cell_type": "markdown",
   "metadata": {},
   "source": [
    "### Urban Planning (Bar Graph)"
   ]
  },
  {
   "cell_type": "code",
   "execution_count": 60,
   "metadata": {},
   "outputs": [],
   "source": [
    "# Bar Graph"
   ]
  },
  {
   "cell_type": "markdown",
   "metadata": {},
   "source": [
    "### Market Trends (Line Graph)"
   ]
  },
  {
   "cell_type": "code",
   "execution_count": 61,
   "metadata": {},
   "outputs": [],
   "source": [
    "# Line Graph"
   ]
  },
  {
   "cell_type": "markdown",
   "metadata": {},
   "source": [
    "### Housing Preferences (Pie Chart)"
   ]
  },
  {
   "cell_type": "code",
   "execution_count": 62,
   "metadata": {},
   "outputs": [],
   "source": [
    "# Pie Chart"
   ]
  },
  {
   "cell_type": "markdown",
   "metadata": {},
   "source": [
    "### Property Value (Scatter Plot)"
   ]
  },
  {
   "cell_type": "code",
   "execution_count": 63,
   "metadata": {},
   "outputs": [],
   "source": [
    "# Scatter Plot"
   ]
  },
  {
   "cell_type": "markdown",
   "metadata": {},
   "source": [
    "### Investment Strategies (Box Plot)"
   ]
  },
  {
   "cell_type": "code",
   "execution_count": 64,
   "metadata": {},
   "outputs": [],
   "source": [
    "# Box Plot"
   ]
  }
 ],
 "metadata": {
  "kernelspec": {
   "display_name": "Python 3",
   "language": "python",
   "name": "python3"
  },
  "language_info": {
   "codemirror_mode": {
    "name": "ipython",
    "version": 3
   },
   "file_extension": ".py",
   "mimetype": "text/x-python",
   "name": "python",
   "nbconvert_exporter": "python",
   "pygments_lexer": "ipython3",
   "version": "3.11.1"
  }
 },
 "nbformat": 4,
 "nbformat_minor": 2
}
